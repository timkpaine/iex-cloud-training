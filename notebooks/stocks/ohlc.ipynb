{
 "cells": [
  {
   "cell_type": "code",
   "execution_count": null,
   "metadata": {},
   "outputs": [],
   "source": [
    "import pyEX as p\n",
    "c = p.Client()"
   ]
  },
  {
   "cell_type": "code",
   "execution_count": null,
   "metadata": {},
   "outputs": [],
   "source": [
    "df = c.chartDF('aapl', '3m')\n",
    "df.head()"
   ]
  },
  {
   "cell_type": "code",
   "execution_count": null,
   "metadata": {},
   "outputs": [],
   "source": [
    "import mplfinance as mpf\n",
    "mpf.plot(df, type=\"candle\", style='yahoo', volume=True)"
   ]
  },
  {
   "cell_type": "code",
   "execution_count": null,
   "metadata": {},
   "outputs": [],
   "source": [
    "import plotly.graph_objects as go\n",
    "from plotly.subplots import make_subplots\n",
    "\n",
    "fig = make_subplots(rows=2, cols=1, \n",
    "                    shared_xaxes=True, \n",
    "                    row_heights=[5, 1],\n",
    "                    vertical_spacing=0.02)\n",
    "\n",
    "fig.add_trace(go.Candlestick(\n",
    "                            x=df.index,\n",
    "                            open=df['open'],\n",
    "                            high=df['high'],\n",
    "                            low=df['low'],\n",
    "                            close=df['close']),\n",
    "               row=1, col=1)\n",
    "\n",
    "fig.add_trace(go.Bar(x=df.index,\n",
    "                     y=df['volume']),\n",
    "              row=2, col=1)\n",
    "\n",
    "fig.update_layout(xaxis_rangeslider_visible=False)\n",
    "fig.show()"
   ]
  },
  {
   "cell_type": "code",
   "execution_count": null,
   "metadata": {},
   "outputs": [],
   "source": [
    "from perspective import PerspectiveWidget\n",
    "w = PerspectiveWidget(df,\n",
    "                      plugin=\"d3_candlestick\",\n",
    "                      columns=[\"open\", \"close\", \"high\", \"low\"])\n",
    "w"
   ]
  },
  {
   "cell_type": "code",
   "execution_count": null,
   "metadata": {},
   "outputs": [],
   "source": []
  }
 ],
 "metadata": {
  "kernelspec": {
   "display_name": "Python 3",
   "language": "python",
   "name": "python3"
  },
  "language_info": {
   "codemirror_mode": {
    "name": "ipython",
    "version": 3
   },
   "file_extension": ".py",
   "mimetype": "text/x-python",
   "name": "python",
   "nbconvert_exporter": "python",
   "pygments_lexer": "ipython3",
   "version": "3.7.8"
  }
 },
 "nbformat": 4,
 "nbformat_minor": 4
}
